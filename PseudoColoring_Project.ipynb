{
  "nbformat": 4,
  "nbformat_minor": 0,
  "metadata": {
    "colab": {
      "name": "IVP_Project.ipynb",
      "provenance": [],
      "collapsed_sections": []
    },
    "kernelspec": {
      "name": "python3",
      "display_name": "Python 3"
    }
  },
  "cells": [
    {
      "cell_type": "code",
      "metadata": {
        "id": "rQIrqBE4tyIC"
      },
      "source": [
        "# libraries\n",
        "import cv2\n",
        "import matplotlib.pyplot as plt\n",
        "import matplotlib.image\n",
        "import numpy as np\n",
        "import math"
      ],
      "execution_count": null,
      "outputs": []
    },
    {
      "cell_type": "code",
      "metadata": {
        "id": "qcDI08VkuOwI"
      },
      "source": [
        "# test image\n",
        "sobel = cv2.imread(\"test.webp\",0)\n",
        "plt.imshow(sobel, cmap=\"gray\")\n",
        "m,n = sobel.shape\n",
        "print(m,n) #= 1162 X 746"
      ],
      "execution_count": null,
      "outputs": []
    },
    {
      "cell_type": "code",
      "metadata": {
        "id": "XcJSBRIlH1sF"
      },
      "source": [
        "# Domain tranfromatioon\n",
        "fft_Source_img = np.fft.fft2(Source_img)\n",
        "fft_img = np.fft.fftshift(fft_Source_img)\n",
        "#new_image = cv2.medianBlur(image2, figure_size)\n",
        "\n",
        "\n",
        "p,q=fft_Source_img.shape\n",
        "lpf=np.zeros((m,n), dtype='int')\n",
        "for i in range(m):\n",
        "  for j in range(n):\n",
        "    oprnd=((i-m//2)**2+(j-n//2)**2)**1//2\n",
        "    if oprnd>500:\n",
        "      lpf[i,j]=0\n",
        "    else:\n",
        "      lpf[i,j]=1\n",
        "lpf_img=fft_Source_img*lpf\n",
        "lpf_img=np.fft.fftshift(lpf_img)\n",
        "lpf_out=np.real(np.fft.ifft2(lpf_img))"
      ],
      "execution_count": null,
      "outputs": []
    },
    {
      "cell_type": "code",
      "metadata": {
        "id": "ir5Bc8z8Lg2w"
      },
      "source": [
        "# Gradient of the LPF image\n",
        "sobelx = cv2.Sobel(lpf_out,cv2.CV_64F,1,0,ksize=3)\n",
        "sobely = cv2.Sobel(lpf_out,cv2.CV_64F,0,1,ksize=3)\n",
        "sobel = sobelx + sobely\n",
        "plt.imshow(lpf_out, cmap=\"gray\")"
      ],
      "execution_count": null,
      "outputs": []
    },
    {
      "cell_type": "code",
      "metadata": {
        "id": "WxRrR2n-C2Ly"
      },
      "source": [
        "# Region of interest\n",
        "ROI_img = cv2.circle(Source_img, (399,563), 132, (255,0,0) , 4) #cv2.circle(image, center, radius, color, thickness)\n",
        "plt.imshow(ROI_img, cmap=\"gray\")"
      ],
      "execution_count": null,
      "outputs": []
    },
    {
      "cell_type": "code",
      "metadata": {
        "id": "_Gr3bYLAr6iF"
      },
      "source": [
        "# Preprossesing of the input image\n"
      ],
      "execution_count": null,
      "outputs": []
    },
    {
      "cell_type": "code",
      "metadata": {
        "id": "hhzPN1WWynEB"
      },
      "source": [
        "# method for color plane\n",
        "def fillColor(A, B, C, D):\n",
        "  #pi = m.pi\n",
        "  num = (A*math.pi)-(B*math.pi)\n",
        "  denum = 2*(C - D)\n",
        "  #sine = math.ceil(math.sin(num/denum))\n",
        "  #sine = int(round(sine))\n",
        "  #sine = np.nan_to_num(math.sin(num/denum))\n",
        "  output = abs(255*math.sin(num/denum))\n",
        "  #if output > 255:\n",
        "   # output = 255\n",
        "  return(output)"
      ],
      "execution_count": null,
      "outputs": []
    },
    {
      "cell_type": "code",
      "metadata": {
        "id": "lJ1ZNYl4MsxS"
      },
      "source": [
        ""
      ],
      "execution_count": null,
      "outputs": []
    },
    {
      "cell_type": "code",
      "metadata": {
        "id": "vx7e9nJUMv75"
      },
      "source": [
        "# Max and min pixel values\n",
        "Gmin = np.amin(sobel)\n",
        "Gmax = np.amax(sobel)\n",
        "#print(Gmin) = 0\n",
        "#print(Gmax) = 255\n",
        "\n",
        "# Thresholds\n",
        "Thres1 = Gmin + (Gmax - Gmin)//3\n",
        "Thres2 = Gmin - (Gmax - Gmin)//3\n",
        "#print(Thres1) = 85\n",
        "#print(Thres2) = -85\n",
        "\n",
        "# blank Color planes\n",
        "red_plane = np.zeros((m,n), dtype = int)\n",
        "green_plane = np.zeros((m,n), dtype = int)\n",
        "blue_plane = np.zeros((m,n), dtype = int)\n",
        "\n",
        "\n",
        "#Color planes\n",
        "for i in range(m):\n",
        "  for j in range(n):\n",
        "    \n",
        "    if (Gmin <= sobel[i,j]) and (sobel[i,j] <= Thres1):\n",
        "      red_plane[i,j] = 0\n",
        "      green_plane[i,j] = fillColor(sobel[i,j], Gmin, Thres1, Gmin) \n",
        "      blue_plane[i,j] = fillColor(sobel[i,j], Thres1, Gmin, Thres1)\n",
        "    \n",
        "    elif (Thres1 <= sobel[i,j]) and (sobel[i,j] <= Thres2):\n",
        "      red_plane[i,j] = fillColor(sobel[i,j], Thres1, Thres2, Thres1)\n",
        "      green_plane[i,j] = fillColor(sobel[i,j], Thres2, Gmax, Thres2)\n",
        "      blue_plane[i,j] = 0\n",
        "    \n",
        "    elif (Thres2 <= sobel[i,j]) and (sobel[i,j] <= Gmax):\n",
        "      red_plane[i,j] = 255\n",
        "      green_plane[i,j] = fillColor(sobel[i,j], Thres2, Gmax, Thres2)\n",
        "      blue_plane[i,j] = fillColor(sobel[i,j], Thres2, Gmax, Thres2)\n",
        "    \n",
        "    else:\n",
        "      red_plane[i,j] = 0\n",
        "      green_plane[i,j] = 0\n",
        "      blue_plane[i,j] = 0"
      ],
      "execution_count": null,
      "outputs": []
    },
    {
      "cell_type": "code",
      "metadata": {
        "id": "CVyL_d7xvUlv"
      },
      "source": [
        "# Max and min pixel values\n",
        "Gmin = np.amin(Source_img)\n",
        "Gmax = np.amax(Source_img)\n",
        "#print(Gmin) = 0\n",
        "#print(Gmax) = 255\n",
        "\n",
        "# Thresholds\n",
        "Thres1 = Gmin + (Gmax - Gmin)//3\n",
        "Thres2 = Gmin - (Gmax - Gmin)//3\n",
        "#print(Thres1) = 85\n",
        "#print(Thres2) = -85\n",
        "\n",
        "# blank Color planes\n",
        "red_plane = np.zeros((m,n), dtype = int)\n",
        "green_plane = np.zeros((m,n), dtype = int)\n",
        "blue_plane = np.zeros((m,n), dtype = int)\n",
        "\n",
        "#Color planes\n",
        "for i in range(m):\n",
        "  for j in range(n):\n",
        "    \n",
        "    if (Gmin <= Source_img[i,j]) and (Source_img[i,j] <= Thres1):\n",
        "      red_plane[i,j] = 0\n",
        "      green_plane[i,j] = fillColor(Source_img[i,j], Gmin, Thres1, Gmin) \n",
        "      blue_plane[i,j] = fillColor(Source_img[i,j], Thres1, Gmin, Thres1)\n",
        "    \n",
        "    elif (Thres1 <= Source_img[i,j]) and (Source_img[i,j] <= Thres2):\n",
        "      red_plane[i,j] = fillColor(Source_img[i,j], Thres1, Thres2, Thres1)\n",
        "      green_plane[i,j] = fillColor(Source_img[i,j], Thres2, Gmax, Thres2)\n",
        "      blue_plane[i,j] = 0\n",
        "    \n",
        "    elif (Thres2 <= Source_img[i,j]) and (Source_img[i,j] <= Gmax):\n",
        "      red_plane[i,j] = 255\n",
        "      green_plane[i,j] = fillColor(Source_img[i,j], Thres2, Gmax, Thres2)\n",
        "      blue_plane[i,j] = fillColor(Source_img[i,j], Thres2, Gmax, Thres2)\n",
        "    \n",
        "    else:\n",
        "      red_plane[i,j] = 0\n",
        "      green_plane[i,j] = 0\n",
        "      blue_plane[i,j] = 0"
      ],
      "execution_count": null,
      "outputs": []
    },
    {
      "cell_type": "markdown",
      "metadata": {
        "id": "Y25RVVJvmcRZ"
      },
      "source": [
        ""
      ]
    },
    {
      "cell_type": "code",
      "metadata": {
        "id": "FsrYCWTx6U2J"
      },
      "source": [
        "pseudocolored_img = cv2.merge([red_plane, green_plane, blue_plane])"
      ],
      "execution_count": null,
      "outputs": []
    },
    {
      "cell_type": "code",
      "metadata": {
        "id": "f36mSSEcKQv9",
        "colab": {
          "base_uri": "https://localhost:8080/",
          "height": 34
        },
        "outputId": "7fe24b6a-3457-439e-f03d-089e182bf8a2"
      },
      "source": [
        "isWritten = cv2.imwrite('pseudoColor.png', pseudocolored_img)\n",
        "\n",
        "if isWritten:\n",
        "\tprint('Image is successfully saved as file.')"
      ],
      "execution_count": null,
      "outputs": [
        {
          "output_type": "stream",
          "text": [
            "Image is successfully saved as file.\n"
          ],
          "name": "stdout"
        }
      ]
    }
  ]
}